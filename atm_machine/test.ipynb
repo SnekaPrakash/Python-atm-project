{
 "cells": [
  {
   "cell_type": "code",
   "execution_count": 1,
   "metadata": {},
   "outputs": [],
   "source": [
    "class ATM:\n",
    "    def __init__(self, pin, balance=0):\n",
    "        self.pin = pin\n",
    "        self.balance = balance\n",
    "\n",
    "    def deposit(self, amount):\n",
    "        if amount > 0:\n",
    "            self.balance += amount\n",
    "            return f\"Deposited: {amount}. New Balance: {self.balance}\"\n",
    "        return \"Deposit amount must be greater than zero.\"\n",
    "\n",
    "    def withdraw(self, amount):\n",
    "        if amount > self.balance:\n",
    "            return \"Insufficient balance.\"\n",
    "        elif amount <= 0:\n",
    "            return \"Withdrawal amount must be greater than zero.\"\n",
    "        else:\n",
    "            self.balance -= amount\n",
    "            return f\"Withdrew: {amount}. New Balance: {self.balance}\"\n",
    "\n",
    "    def check_balance(self):\n",
    "        return f\"Current Balance: {self.balance}\""
   ]
  },
  {
   "cell_type": "code",
   "execution_count": 2,
   "metadata": {},
   "outputs": [],
   "source": [
    "atm = ATM(pin=\"1234\", balance=1000)"
   ]
  }
 ],
 "metadata": {
  "kernelspec": {
   "display_name": "Python 3",
   "language": "python",
   "name": "python3"
  },
  "language_info": {
   "codemirror_mode": {
    "name": "ipython",
    "version": 3
   },
   "file_extension": ".py",
   "mimetype": "text/x-python",
   "name": "python",
   "nbconvert_exporter": "python",
   "pygments_lexer": "ipython3",
   "version": "3.11.0"
  }
 },
 "nbformat": 4,
 "nbformat_minor": 2
}
